{
  "nbformat": 4,
  "nbformat_minor": 0,
  "metadata": {
    "colab": {
      "name": "Tripteron_VJM.ipynb",
      "provenance": [],
      "collapsed_sections": []
    },
    "kernelspec": {
      "name": "python3",
      "display_name": "Python 3"
    },
    "accelerator": "GPU"
  },
  "cells": [
    {
      "cell_type": "markdown",
      "metadata": {
        "id": "7rbFIlAjUJuD"
      },
      "source": [
        "Import libraries"
      ]
    },
    {
      "cell_type": "code",
      "metadata": {
        "id": "kd3eqAzYTjql"
      },
      "source": [
        "import numpy as np\r\n",
        "import matplotlib.pyplot as plt\r\n",
        "import time"
      ],
      "execution_count": null,
      "outputs": []
    },
    {
      "cell_type": "markdown",
      "metadata": {
        "id": "eFSkxGmJUL-U"
      },
      "source": [
        "Init transformation matrices"
      ]
    },
    {
      "cell_type": "code",
      "metadata": {
        "id": "wHlTi3ZlUNyD"
      },
      "source": [
        "\r\n",
        "def Rx(q):\r\n",
        "    T = np.array([[1, 0, 0, 0],\r\n",
        "                  [0, np.cos(q), -np.sin(q), 0],\r\n",
        "                  [0, np.sin(q), np.cos(q), 0],\r\n",
        "                  [0, 0, 0, 1]])\r\n",
        "    return T\r\n",
        "\r\n",
        "\r\n",
        "def Ry(q):\r\n",
        "    T = np.array([[np.cos(q), 0, np.sin(q), 0],\r\n",
        "                  [0, 1, 0, 0],\r\n",
        "                  [-np.sin(q), 0, np.cos(q), 0],\r\n",
        "                  [0, 0, 0, 1]])\r\n",
        "    return T\r\n",
        "\r\n",
        "\r\n",
        "def Rz(q):\r\n",
        "    T = np.array([[np.cos(q), -np.sin(q), 0, 0],\r\n",
        "                  [np.sin(q), np.cos(q), 0, 0],\r\n",
        "                  [0, 0, 1, 0],\r\n",
        "                  [0, 0, 0, 1]])\r\n",
        "    return T\r\n",
        "\r\n",
        "\r\n",
        "def Tx(x):\r\n",
        "    T = np.array([[1, 0, 0, x],\r\n",
        "                  [0, 1, 0, 0],\r\n",
        "                  [0, 0, 1, 0],\r\n",
        "                  [0, 0, 0, 1]])\r\n",
        "    return T\r\n",
        "\r\n",
        "\r\n",
        "def Ty(y):\r\n",
        "    T = np.array([[1, 0, 0, 0],\r\n",
        "                  [0, 1, 0, y],\r\n",
        "                  [0, 0, 1, 0],\r\n",
        "                  [0, 0, 0, 1]])\r\n",
        "    return T\r\n",
        "\r\n",
        "\r\n",
        "def Tz(z):\r\n",
        "    T = np.array([[1, 0, 0, 0],\r\n",
        "                  [0, 1, 0, 0],\r\n",
        "                  [0, 0, 1, z],\r\n",
        "                  [0, 0, 0, 1]])\r\n",
        "    return T\r\n",
        "\r\n",
        "\r\n",
        "def dRx(q):\r\n",
        "    T = np.array([[0, 0, 0, 0],\r\n",
        "                  [0, -np.sin(q), -np.cos(q), 0],\r\n",
        "                  [0, np.cos(q), -np.sin(q), 0],\r\n",
        "                  [0, 0, 0, 0]])\r\n",
        "    return T\r\n",
        "\r\n",
        "\r\n",
        "def dRy(q):\r\n",
        "    T = np.array([[-np.sin(q), 0, np.cos(q), 0],\r\n",
        "                  [0, 0, 0, 0],\r\n",
        "                  [-np.cos(q), 0, -np.sin(q), 0],\r\n",
        "                  [0, 0, 0, 0]])\r\n",
        "    return T\r\n",
        "\r\n",
        "\r\n",
        "def dRz(q):\r\n",
        "    T = np.array([[-np.sin(q), -np.cos(q), 0, 0],\r\n",
        "                  [np.cos(q), -np.sin(q), 0, 0],\r\n",
        "                  [0, 0, 0, 0],\r\n",
        "                  [0, 0, 0, 0]])\r\n",
        "    return T\r\n",
        "\r\n",
        "\r\n",
        "def dTx(x):\r\n",
        "    T = np.array([[0, 0, 0, 1],\r\n",
        "                  [0, 0, 0, 0],\r\n",
        "                  [0, 0, 0, 0],\r\n",
        "                  [0, 0, 0, 0]])\r\n",
        "    return T\r\n",
        "\r\n",
        "\r\n",
        "def dTy(y):\r\n",
        "    T = np.array([[0, 0, 0, 0],\r\n",
        "                  [0, 0, 0, 1],\r\n",
        "                  [0, 0, 0, 0],\r\n",
        "                  [0, 0, 0, 0]])\r\n",
        "    return T\r\n",
        "\r\n",
        "\r\n",
        "def dTz(z):\r\n",
        "    T = np.array([[0, 0, 0, 0],\r\n",
        "                  [0, 0, 0, 0],\r\n",
        "                  [0, 0, 0, 1],\r\n",
        "                  [0, 0, 0, 0]])\r\n",
        "    return T\r\n",
        "\r\n",
        "def T_3D(theta_tx, theta_ty, theta_tz, theta_rx, theta_ry, theta_rz):\r\n",
        "    return np.linalg.multi_dot([Tx(theta_tx), Ty(theta_ty), Tz(theta_tz), Rx(theta_rx), Ry(theta_ry), Rz(theta_rz)])"
      ],
      "execution_count": null,
      "outputs": []
    },
    {
      "cell_type": "markdown",
      "metadata": {
        "id": "AnLJuNLLUlfF"
      },
      "source": [
        "Init K-matrices"
      ]
    },
    {
      "cell_type": "code",
      "metadata": {
        "id": "YHsO5ADUUipn"
      },
      "source": [
        "def GetK22(E, G, A, Iy, Iz, Ip, link_length):\r\n",
        "    K = np.array([[E * A / link_length, 0, 0, 0, 0, 0],\r\n",
        "                  [0, 12 * E * Iz / (link_length ** 3), 0, 0, 0, -6 * E * Iz / (link_length ** 2)],\r\n",
        "                  [0, 0, 12 * E * Iy / (link_length ** 3), 0, 6 * E * Iy / (link_length ** 2), 0],\r\n",
        "                  [0, 0, 0, G * Ip / link_length, 0, 0],\r\n",
        "                  [0, 0, 6 * E * Iy / (link_length ** 2), 0, 4 * E * Iy / link_length, 0],\r\n",
        "                  [0, -6 * E * Iz / (link_length ** 2), 0, 0, 0, 4 * E * Iz / link_length]])\r\n",
        "    return K"
      ],
      "execution_count": null,
      "outputs": []
    },
    {
      "cell_type": "markdown",
      "metadata": {
        "id": "kIvLk-vQVLEy"
      },
      "source": [
        "Get forward kinematic"
      ]
    },
    {
      "cell_type": "code",
      "metadata": {
        "id": "Uf8pnvaUVArZ"
      },
      "source": [
        "def GetForwardKinematics(base, legs_q_a, legs_q_p, thetas, links):\r\n",
        "    legs_fk = []\r\n",
        "\r\n",
        "    for leg in range(len(base)):\r\n",
        "        legBase = base[leg]\r\n",
        "        leg_q_active = legs_q_a[leg]\r\n",
        "        leg_q_passive = legs_q_p[leg]\r\n",
        "        leg_theta = thetas[leg]\r\n",
        "\r\n",
        "        T_3D_2_7 = T_3D(leg_theta[1], leg_theta[2], leg_theta[3], leg_theta[4], leg_theta[5], leg_theta[6])\r\n",
        "        T_3D_8_13 = T_3D(leg_theta[7], leg_theta[8], leg_theta[9], leg_theta[10], leg_theta[11], leg_theta[12])\r\n",
        "\r\n",
        "        T_leg_local = np.linalg.multi_dot([Tz(leg_q_active[0]),\r\n",
        "                                           Tz(leg_theta[0]),\r\n",
        "                                           Rz(leg_q_passive[0]),\r\n",
        "                                           Tx(links[0]),\r\n",
        "                                           T_3D_2_7,\r\n",
        "                                           Rz(leg_q_passive[1]),\r\n",
        "                                           Tx(links[1]),\r\n",
        "                                           T_3D_8_13,\r\n",
        "                                           Rz(leg_q_passive[2])])\r\n",
        "\r\n",
        "        T_leg = np.linalg.multi_dot([legBase, T_leg_local])\r\n",
        "        legs_fk.append(T_leg)\r\n",
        "\r\n",
        "    return legs_fk"
      ],
      "execution_count": null,
      "outputs": []
    },
    {
      "cell_type": "markdown",
      "metadata": {
        "id": "e_l1qSrTVWBA"
      },
      "source": [
        "Inverse kinematic"
      ]
    },
    {
      "cell_type": "code",
      "metadata": {
        "id": "GuMc4FETVbQ9"
      },
      "source": [
        "def getInverseKinematic(leg_bases, platform_edges, links):\r\n",
        "    legs_q = []\r\n",
        "\r\n",
        "    for i in range(len(leg_bases)):\r\n",
        "        base = leg_bases[i]\r\n",
        "        r_base = base[0:3, 0:3]\r\n",
        "        p_base = base[0:3, 3]\r\n",
        "\r\n",
        "        xlocal, ylocal, zlocal = np.transpose(r_base).dot(platform_edges[i] - p_base)\r\n",
        "\r\n",
        "        cos_q2 = (xlocal ** 2 + ylocal ** 2 - links[0] ** 2 - links[1] ** 2) / (2 * links[0] * links[1])\r\n",
        "        sin_q2 = np.sqrt(1 - cos_q2 ** 2)\r\n",
        "\r\n",
        "        q2 = np.arctan2(sin_q2, cos_q2)\r\n",
        "        q1 = np.arctan2(ylocal, xlocal) - np.arctan2(links[1] * np.sin(q2), links[0] + links[1] * np.cos(q2))\r\n",
        "        q3 = -(q1 + q2)\r\n",
        "\r\n",
        "        leg_q = np.array([q1, q2, q3])\r\n",
        "        legs_q.append(leg_q)\r\n",
        "\r\n",
        "    return legs_q"
      ],
      "execution_count": null,
      "outputs": []
    },
    {
      "cell_type": "markdown",
      "metadata": {
        "id": "jixaJ7ayU-re"
      },
      "source": [
        "Get FK for every link"
      ]
    },
    {
      "cell_type": "code",
      "metadata": {
        "id": "ZK1xVuKAU6WJ"
      },
      "source": [
        "def getLinkTransformations(base, links, q, theta, ee_pos):\r\n",
        "    link_1 = np.linalg.multi_dot([base,\r\n",
        "                                     Tz(ee_pos),\r\n",
        "                                     # virtual spring\r\n",
        "                                     Tz(theta[0]),\r\n",
        "                                     Rz(q[0])])\r\n",
        "    link_2 = np.linalg.multi_dot([link_1,\r\n",
        "                                      Tx(links[0]),\r\n",
        "                                      # virtual spring\r\n",
        "                                      T_3D(theta[1], theta[2], theta[3], theta[4], theta[5], theta[6]),\r\n",
        "                                      Rz(q[1])])\r\n",
        "\r\n",
        "    link_3 = np.linalg.multi_dot([link_2,\r\n",
        "                                      Tx(links[1]),\r\n",
        "                                      # virtual spring\r\n",
        "                                      T_3D(theta[7], theta[8], theta[9], theta[10], theta[11], theta[12]),\r\n",
        "                                      Rz(q[2])])\r\n",
        "    return link_1, link_2, link_3\r\n"
      ],
      "execution_count": null,
      "outputs": []
    },
    {
      "cell_type": "markdown",
      "metadata": {
        "id": "AvgeOMHXVnc-"
      },
      "source": [
        "\r\n",
        "Calculate shift from center to platform edges"
      ]
    },
    {
      "cell_type": "code",
      "metadata": {
        "id": "pDZ1uQj_Vl1-"
      },
      "source": [
        "def GetPlatformEdges(position):\r\n",
        "    posForArmX = [position[0], position[1], position[2]]\r\n",
        "    posForArmX[1] += np.sqrt(0.1 ** 2 - 0.05 ** 2)\r\n",
        "    posForArmX[0] += 0.05\r\n",
        "\r\n",
        "    posForArmY = [position[0], position[1], position[2]]\r\n",
        "    posForArmY[0] -= 0.1\r\n",
        "\r\n",
        "    posForArmZ = [position[0], position[1], position[2]]\r\n",
        "    posForArmZ[1] -= np.sqrt(0.1 ** 2 - 0.05 ** 2)\r\n",
        "    posForArmZ[0] += 0.05\r\n",
        "\r\n",
        "    return [posForArmX, posForArmY, posForArmZ]"
      ],
      "execution_count": null,
      "outputs": []
    },
    {
      "cell_type": "markdown",
      "metadata": {
        "id": "BA87YnY5VnxY"
      },
      "source": [
        "Jacobian"
      ]
    },
    {
      "cell_type": "code",
      "metadata": {
        "id": "cqB_x5yiVrnJ"
      },
      "source": [
        "def getLegJacobian(base, dT_leg_local, inv_FK):\r\n",
        "    dT_leg = np.linalg.multi_dot([base, dT_leg_local, inv_FK])\r\n",
        "    J = np.vstack([dT_leg[0, 3], dT_leg[1, 3], dT_leg[2, 3], dT_leg[2, 1], dT_leg[0, 2], dT_leg[1, 0]])\r\n",
        "    return J"
      ],
      "execution_count": null,
      "outputs": []
    },
    {
      "cell_type": "code",
      "metadata": {
        "id": "hTWBQDVqVtNm"
      },
      "source": [
        "def getPassiveLegJacobian(leg_FK, base, q_a, q_p, theta, links):\r\n",
        "    leg_FK[0:3, 3] = 0\r\n",
        "    inv_FK = np.transpose(leg_FK)\r\n",
        "\r\n",
        "    T_3D_2_7 = T_3D(theta[1], theta[2], theta[3], theta[4], theta[5], theta[6])\r\n",
        "    T_3D_8_13 = T_3D(theta[7], theta[8], theta[9], theta[10], theta[11], theta[12])\r\n",
        "\r\n",
        "    dT_leg = np.linalg.multi_dot([Tz(q_a[0]),\r\n",
        "                                        Tz(theta[0]),\r\n",
        "                                        dRz(q_p[0]),\r\n",
        "                                        Tx(links[0]),\r\n",
        "                                        T_3D_2_7,\r\n",
        "                                        Rz(q_p[1]),\r\n",
        "                                        Tx(links[1]),\r\n",
        "                                        T_3D_8_13,\r\n",
        "                                        Rz(q_p[2])])\r\n",
        "    J1 = getLegJacobian(base, dT_leg, inv_FK)\r\n",
        "\r\n",
        "    dT_leg = np.linalg.multi_dot([Tz(q_a[0]),\r\n",
        "                                        Tz(theta[0]),\r\n",
        "                                        Rz(q_p[0]),\r\n",
        "                                        Tx(links[0]),\r\n",
        "                                        T_3D_2_7,\r\n",
        "                                        dRz(q_p[1]),\r\n",
        "                                        Tx(links[1]),\r\n",
        "                                        T_3D_8_13,\r\n",
        "                                        Rz(q_p[2])])\r\n",
        "\r\n",
        "    J2 = getLegJacobian(base, dT_leg, inv_FK)\r\n",
        "\r\n",
        "    dT_leg = np.linalg.multi_dot([Tz(q_a[0]),\r\n",
        "                                        Tz(theta[0]),\r\n",
        "                                        Rz(q_p[0]),\r\n",
        "                                        Tx(links[0]),\r\n",
        "                                        T_3D_2_7,\r\n",
        "                                        Rz(q_p[1]),\r\n",
        "                                        Tx(links[1]),\r\n",
        "                                        T_3D_8_13,\r\n",
        "                                        dRz(q_p[2])])\r\n",
        "\r\n",
        "    J3 = getLegJacobian(base, dT_leg, inv_FK)\r\n",
        "\r\n",
        "    J = np.hstack([J1, J2, J3])\r\n",
        "    return J"
      ],
      "execution_count": null,
      "outputs": []
    },
    {
      "cell_type": "code",
      "metadata": {
        "id": "oY8jvklzVvyn"
      },
      "source": [
        "def GetJacobianForPassive(base, q_active, q_passive, theta, link):\r\n",
        "    FK = GetForwardKinematics(base, q_active, q_passive, theta, link)\r\n",
        "\r\n",
        "    Jq = []\r\n",
        "    for leg in range(len(base)):\r\n",
        "        J = getPassiveLegJacobian(FK[leg], base[leg], q_active[leg], q_passive[leg], theta[leg], link)\r\n",
        "        Jq.append(J)\r\n",
        "    return Jq"
      ],
      "execution_count": null,
      "outputs": []
    },
    {
      "cell_type": "code",
      "metadata": {
        "id": "-R09fXSTVylu"
      },
      "source": [
        "def GetThetaLegJacobian(FK, base, q_active, q_passive, thetas, links):\r\n",
        "    FK[0:3, 3] = 0\r\n",
        "    inv_FK = np.transpose(FK)\r\n",
        "\r\n",
        "    T_3D_2_7 = T_3D(thetas[1], thetas[2], thetas[3], thetas[4], thetas[5], thetas[6])\r\n",
        "    T_3D_8_13 = T_3D(thetas[7], thetas[8], thetas[9], thetas[10], thetas[11], thetas[12])\r\n",
        "\r\n",
        "    dT_leg = np.linalg.multi_dot([Tz(q_active[0]),\r\n",
        "                                        dTz(thetas[0]),\r\n",
        "                                        Rz(q_passive[0]),\r\n",
        "                                        Tx(links[0]),\r\n",
        "                                        T_3D_2_7,\r\n",
        "                                        Rz(q_passive[1]),\r\n",
        "                                        Tx(links[1]),\r\n",
        "                                        T_3D_8_13,\r\n",
        "                                        Rz(thetas[12]),\r\n",
        "                                        Rz(q_passive[2])])\r\n",
        "\r\n",
        "    dT_leg = np.linalg.multi_dot([base, dT_leg, inv_FK])\r\n",
        "    J1 = np.vstack([dT_leg[0, 3], dT_leg[1, 3], dT_leg[2, 3], dT_leg[2, 1], dT_leg[0, 2], dT_leg[1, 0]])\r\n",
        "\r\n",
        "    dT_leg = np.linalg.multi_dot([Tz(q_active[0]),\r\n",
        "                                        Tz(thetas[0]),\r\n",
        "                                        Rz(q_passive[0]),\r\n",
        "                                        Tx(links[0]),\r\n",
        "                                        dTx(thetas[1]), Ty(thetas[2]), Tz(thetas[3]), Rx(thetas[4]), Ry(thetas[5]), Rz(thetas[6]),\r\n",
        "                                        Rz(q_passive[1]),\r\n",
        "                                        Tx(links[1]),\r\n",
        "                                        T_3D_8_13,\r\n",
        "                                        Rz(q_passive[2])])\r\n",
        "\r\n",
        "    dT_leg = np.linalg.multi_dot([base, dT_leg, inv_FK])\r\n",
        "    J2 = np.vstack([dT_leg[0, 3], dT_leg[1, 3], dT_leg[2, 3], dT_leg[2, 1], dT_leg[0, 2], dT_leg[1, 0]])\r\n",
        "\r\n",
        "    dT_leg = np.linalg.multi_dot([Tz(q_active[0]),\r\n",
        "                                        Tz(thetas[0]),\r\n",
        "                                        Rz(q_passive[0]),\r\n",
        "                                        Tx(links[0]),\r\n",
        "                                        Tx(thetas[1]), dTy(thetas[2]), Tz(thetas[3]), Rx(thetas[4]), Ry(thetas[5]), Rz(thetas[6]),\r\n",
        "                                        Rz(q_passive[1]),\r\n",
        "                                        Tx(links[1]),\r\n",
        "                                        T_3D_8_13,\r\n",
        "                                        Rz(q_passive[2])])\r\n",
        "\r\n",
        "    dT_leg = np.linalg.multi_dot([base, dT_leg, inv_FK])\r\n",
        "    J3 = np.vstack([dT_leg[0, 3], dT_leg[1, 3], dT_leg[2, 3], dT_leg[2, 1], dT_leg[0, 2], dT_leg[1, 0]])\r\n",
        "\r\n",
        "    dT_leg = np.linalg.multi_dot([Tz(q_active[0]),\r\n",
        "                                        Tz(thetas[0]),\r\n",
        "                                        Rz(q_passive[0]),\r\n",
        "                                        Tx(links[0]),\r\n",
        "                                        Tx(thetas[1]), Ty(thetas[2]), dTz(thetas[3]), Rx(thetas[4]), Ry(thetas[5]), Rz(thetas[6]),\r\n",
        "                                        Rz(q_passive[1]),\r\n",
        "                                        Tx(links[1]),\r\n",
        "                                        T_3D_8_13,\r\n",
        "                                        Rz(q_passive[2])])\r\n",
        "\r\n",
        "    dT_leg = np.linalg.multi_dot([base, dT_leg, inv_FK])\r\n",
        "    J4 = np.vstack([dT_leg[0, 3], dT_leg[1, 3], dT_leg[2, 3], dT_leg[2, 1], dT_leg[0, 2], dT_leg[1, 0]])\r\n",
        "\r\n",
        "    dT_leg = np.linalg.multi_dot([Tz(q_active[0]),\r\n",
        "                                        Tz(thetas[0]),\r\n",
        "                                        Rz(q_passive[0]),\r\n",
        "                                        Tx(links[0]),\r\n",
        "                                        Tx(thetas[1]), Ty(thetas[2]), Tz(thetas[3]), dRx(thetas[4]), Ry(thetas[5]), Rz(thetas[6]),\r\n",
        "                                        Rz(q_passive[1]),\r\n",
        "                                        Tx(links[1]),\r\n",
        "                                        T_3D_8_13,\r\n",
        "                                        Rz(q_passive[2])])\r\n",
        "\r\n",
        "    dT_leg = np.linalg.multi_dot([base, dT_leg, inv_FK])\r\n",
        "    J5 = np.vstack([dT_leg[0, 3], dT_leg[1, 3], dT_leg[2, 3], dT_leg[2, 1], dT_leg[0, 2], dT_leg[1, 0]])\r\n",
        "\r\n",
        "    dT_leg = np.linalg.multi_dot([Tz(q_active[0]),\r\n",
        "                                        Tz(thetas[0]),\r\n",
        "                                        Rz(q_passive[0]),\r\n",
        "                                        Tx(links[0]),\r\n",
        "                                        Tx(thetas[1]), Ty(thetas[2]), Tz(thetas[3]), Rx(thetas[4]), dRy(thetas[5]), Rz(thetas[6]),\r\n",
        "                                        Rz(q_passive[1]),\r\n",
        "                                        Tx(links[1]),\r\n",
        "                                        T_3D_8_13,\r\n",
        "                                        Rz(q_passive[2])])\r\n",
        "\r\n",
        "    dT_leg = np.linalg.multi_dot([base, dT_leg, inv_FK])\r\n",
        "    J6 = np.vstack([dT_leg[0, 3], dT_leg[1, 3], dT_leg[2, 3], dT_leg[2, 1], dT_leg[0, 2], dT_leg[1, 0]])\r\n",
        "\r\n",
        "    dT_leg = np.linalg.multi_dot([Tz(q_active[0]),\r\n",
        "                                        Tz(thetas[0]),\r\n",
        "                                        Rz(q_passive[0]),\r\n",
        "                                        Tx(links[0]),\r\n",
        "                                        Tx(thetas[1]), Ty(thetas[2]), Tz(thetas[3]), Rx(thetas[4]), Ry(thetas[5]), dRz(thetas[6]),\r\n",
        "                                        Rz(q_passive[1]),\r\n",
        "                                        Tx(links[1]),\r\n",
        "                                        T_3D_8_13,\r\n",
        "                                        Rz(q_passive[2])])\r\n",
        "\r\n",
        "    dT_leg = np.linalg.multi_dot([base, dT_leg, inv_FK ])\r\n",
        "    J7 = np.vstack([dT_leg[0, 3], dT_leg[1, 3], dT_leg[2, 3], dT_leg[2, 1], dT_leg[0, 2], dT_leg[1, 0]])\r\n",
        "\r\n",
        "    dT_leg = np.linalg.multi_dot([Tz(q_active[0]),\r\n",
        "                                        Tz(thetas[0]),\r\n",
        "                                        Rz(q_passive[0]),\r\n",
        "                                        Tx(links[0]),\r\n",
        "                                        T_3D_2_7,\r\n",
        "                                        Rz(q_passive[1]),\r\n",
        "                                        Tx(links[1]),\r\n",
        "                                        dTx(thetas[7]), Ty(thetas[8]), Tz(thetas[9]), Rx(thetas[10]), Ry(thetas[11]), Rz(thetas[12]),\r\n",
        "                                        Rz(q_passive[2])])\r\n",
        "\r\n",
        "    dT_leg = np.linalg.multi_dot([base, dT_leg, inv_FK])\r\n",
        "    J8 = np.vstack([dT_leg[0, 3], dT_leg[1, 3], dT_leg[2, 3], dT_leg[2, 1], dT_leg[0, 2], dT_leg[1, 0]])\r\n",
        "\r\n",
        "    dT_leg = np.linalg.multi_dot([Tz(q_active[0]),\r\n",
        "                                        Tz(thetas[0]),\r\n",
        "                                        Rz(q_passive[0]),\r\n",
        "                                        Tx(links[0]),\r\n",
        "                                        T_3D_2_7,\r\n",
        "                                        Rz(q_passive[1]),\r\n",
        "                                        Tx(links[1]),\r\n",
        "                                        Tx(thetas[7]), dTy(thetas[8]), Tz(thetas[9]), Rx(thetas[10]), Ry(thetas[11]), Rz(thetas[12]),\r\n",
        "                                        Rz(q_passive[2])])\r\n",
        "\r\n",
        "    dT_leg = np.linalg.multi_dot([base, dT_leg, inv_FK  ])\r\n",
        "    J9 = np.vstack([dT_leg[0, 3], dT_leg[1, 3], dT_leg[2, 3], dT_leg[2, 1], dT_leg[0, 2], dT_leg[1, 0]])\r\n",
        "\r\n",
        "    dT_leg = np.linalg.multi_dot([Tz(q_active[0]),\r\n",
        "                                        Tz(thetas[0]),\r\n",
        "                                        Rz(q_passive[0]),\r\n",
        "                                        Tx(links[0]),\r\n",
        "                                        T_3D_2_7,\r\n",
        "                                        Rz(q_passive[1]),\r\n",
        "                                        Tx(links[1]),\r\n",
        "                                        Tx(thetas[7]), Ty(thetas[8]), dTz(thetas[9]), Rx(thetas[10]), Ry(thetas[11]), Rz(thetas[12]),\r\n",
        "                                        Rz(q_passive[2])])\r\n",
        "\r\n",
        "    dT_leg = np.linalg.multi_dot([base, dT_leg, inv_FK ])\r\n",
        "    J10 = np.vstack([dT_leg[0, 3], dT_leg[1, 3], dT_leg[2, 3], dT_leg[2, 1], dT_leg[0, 2], dT_leg[1, 0]])\r\n",
        "\r\n",
        "    dT_leg = np.linalg.multi_dot([Tz(q_active[0]),\r\n",
        "                                        Tz(thetas[0]),\r\n",
        "                                        Rz(q_passive[0]),\r\n",
        "                                        Tx(links[0]),\r\n",
        "                                        T_3D_2_7,\r\n",
        "                                        Rz(q_passive[1]),\r\n",
        "                                        Tx(links[1]),\r\n",
        "                                        Tx(thetas[7]), Ty(thetas[8]), Tz(thetas[9]), dRx(thetas[10]), Ry(thetas[11]), Rz(thetas[12]),\r\n",
        "                                        Rz(q_passive[2])])\r\n",
        "\r\n",
        "    dT_leg = np.linalg.multi_dot([base, dT_leg, inv_FK ])\r\n",
        "    J11 = np.vstack([dT_leg[0, 3], dT_leg[1, 3], dT_leg[2, 3], dT_leg[2, 1], dT_leg[0, 2], dT_leg[1, 0]])\r\n",
        "\r\n",
        "    dT_leg = np.linalg.multi_dot([Tz(q_active[0]),\r\n",
        "                                        Tz(thetas[0]),\r\n",
        "                                        Rz(q_passive[0]),\r\n",
        "                                        Tx(links[0]),\r\n",
        "                                        T_3D_2_7,\r\n",
        "                                        Rz(q_passive[1]),\r\n",
        "                                        Tx(links[1]),\r\n",
        "                                        Tx(thetas[7]), Ty(thetas[8]), Tz(thetas[9]), Rx(thetas[10]), dRy(thetas[11]), Rz(thetas[12]),\r\n",
        "                                        Rz(q_passive[2])])\r\n",
        "\r\n",
        "    dT_leg = np.linalg.multi_dot([base, dT_leg, inv_FK ])\r\n",
        "    J12 = np.vstack([dT_leg[0, 3], dT_leg[1, 3], dT_leg[2, 3], dT_leg[2, 1], dT_leg[0, 2], dT_leg[1, 0]])\r\n",
        "\r\n",
        "    dT_leg = np.linalg.multi_dot([Tz(q_active[0]),\r\n",
        "                                        Tz(thetas[0]),\r\n",
        "                                        Rz(q_passive[0]),\r\n",
        "                                        Tx(links[0]),\r\n",
        "                                        T_3D_2_7,\r\n",
        "                                        Rz(q_passive[1]),\r\n",
        "                                        Tx(links[1]),\r\n",
        "                                        Tx(thetas[7]), Ty(thetas[8]), Tz(thetas[9]), Rx(thetas[10]), Ry(thetas[11]), dRz(thetas[12]),\r\n",
        "                                        Rz(q_passive[2])])\r\n",
        "\r\n",
        "    dT_leg = np.linalg.multi_dot([base, dT_leg, inv_FK ])\r\n",
        "    J13 = np.vstack([dT_leg[0, 3], dT_leg[1, 3], dT_leg[2, 3], dT_leg[2, 1], dT_leg[0, 2], dT_leg[1, 0]])\r\n",
        "\r\n",
        "    J = np.hstack([J1, J2, J3, J4, J5, J6, J7, J8, J9, J10, J11, J12, J13])\r\n",
        "    return J"
      ],
      "execution_count": null,
      "outputs": []
    },
    {
      "cell_type": "code",
      "metadata": {
        "id": "P1hgE4IzV1ln"
      },
      "source": [
        "def GetJacobianForTheta(base, q_active, q_passive, theta, link):\r\n",
        "    FK = GetForwardKinematics(base, q_active, q_passive, theta, link)\r\n",
        "\r\n",
        "    Jtheta = []\r\n",
        "    for leg in range(len(base)):\r\n",
        "        J = GetThetaLegJacobian(FK[leg], base[leg], q_active[leg], q_passive[leg], theta[leg], link)\r\n",
        "        Jtheta.append(J)\r\n",
        "    return Jtheta"
      ],
      "execution_count": null,
      "outputs": []
    },
    {
      "cell_type": "code",
      "metadata": {
        "id": "canfVFegV5Q_"
      },
      "source": [
        "def KThetaLeg(K_active, E, G, A, Iy, Iz, Ip, link_length):\r\n",
        "    K0 = np.zeros(13)\r\n",
        "    K0[0] = K_active\r\n",
        "\r\n",
        "    zeros_6_1 = np.zeros((6, 1))\r\n",
        "    zeros_6_6 = np.zeros((6, 6))\r\n",
        "\r\n",
        "    K1 = GetK22(E, G, A, Iy, Iz, Ip, link_length)\r\n",
        "    K1 = np.hstack([zeros_6_1, K1, zeros_6_6])\r\n",
        "\r\n",
        "    K2 = GetK22(E, G, A, Iy, Iz, Ip, link_length)\r\n",
        "    K2 = np.hstack([zeros_6_1, zeros_6_6, K2])\r\n",
        "\r\n",
        "    K = np.vstack([K0, K1, K2])\r\n",
        "    return K"
      ],
      "execution_count": null,
      "outputs": []
    },
    {
      "cell_type": "markdown",
      "metadata": {
        "id": "h-EWRTFoV8iX"
      },
      "source": [
        "Kc calculation"
      ]
    },
    {
      "cell_type": "code",
      "metadata": {
        "id": "ONeLYNHqV52h"
      },
      "source": [
        "def GetKc(Ktheta, Jq, Jtheta):\r\n",
        "    Kc_total = []\r\n",
        "    for i in range(len(Ktheta)):\r\n",
        "        Kc0 = np.linalg.inv(np.linalg.multi_dot([Jtheta[i], np.linalg.inv(Ktheta[i]), np.transpose(Jtheta[i])]))\r\n",
        "        Kc = Kc0 - np.linalg.multi_dot(\r\n",
        "            [Kc0, Jq[i], np.linalg.inv(np.linalg.multi_dot([np.transpose(Jq[i]), Kc0, Jq[i]])), np.transpose(Jq[i]),\r\n",
        "             Kc0])\r\n",
        "        Kc_total.append(Kc)\r\n",
        "\r\n",
        "    Kc_total = Kc_total[0] + Kc_total[1] + Kc_total[2]\r\n",
        "    return Kc_total"
      ],
      "execution_count": null,
      "outputs": []
    },
    {
      "cell_type": "code",
      "metadata": {
        "id": "yWna1rGdWDox"
      },
      "source": [
        "def plotModel(bases, ee_pos, legs_q, legs_theta, link, platform_nodes):\r\n",
        "    plt.figure()\r\n",
        "    ax = plt.axes(projection='3d')\r\n",
        "\r\n",
        "    ax.set_xlim3d(-0.5, space_size + 0.5)\r\n",
        "    ax.set_ylim3d(-0.5, space_size + 0.5)\r\n",
        "    ax.set_zlim3d(-0.5, space_size + 0.5)\r\n",
        "\r\n",
        "    ax.set_xlabel('X')\r\n",
        "    ax.set_ylabel('Y')\r\n",
        "    ax.set_zlabel('Z')\r\n",
        "\r\n",
        "    for i in range(len(bases)):\r\n",
        "        q = legs_q[i]\r\n",
        "        base = bases[i]\r\n",
        "\r\n",
        "        toPassive1, toPassive2, toPassive3 = getLinkTransformations(base, link, q, legs_theta[i], platform_nodes[i][i])\r\n",
        "        link_1 = toPassive1[0:3, 3]\r\n",
        "        link_2 = toPassive2[0:3, 3]\r\n",
        "        link_3 = toPassive3[0:3, 3]\r\n",
        "\r\n",
        "        # Plot links\r\n",
        "        leg = [[], [], []]\r\n",
        "        for i in range(len(leg)):\r\n",
        "            leg[i].append(link_1[i])\r\n",
        "            leg[i].append(link_2[i])\r\n",
        "            leg[i].append(link_3[i])\r\n",
        "\r\n",
        "        ax.plot3D(leg[0], leg[1], leg[2], c='indigo', linewidth=2)\r\n",
        "\r\n",
        "        # Plot bases\r\n",
        "        active = [[], [], []]\r\n",
        "        for i in range(len(leg)):\r\n",
        "            active[i].append(base[0:3, 3][i])\r\n",
        "            active[i].append(link_1[i])\r\n",
        "\r\n",
        "        ax.plot3D(active[0], active[1], active[2], c='navy', linewidth=3)\r\n",
        "\r\n",
        "    # Plot platform\r\n",
        "    for i in range(len(platform_nodes)):\r\n",
        "        curNode = platform_nodes[i]\r\n",
        "        nextNode = platform_nodes[(i + 1) % len(platform_nodes)]\r\n",
        "\r\n",
        "        x_values = [curNode[0], nextNode[0]]\r\n",
        "        y_values = [curNode[1], nextNode[1]]\r\n",
        "        z_values = [curNode[2], nextNode[2]]\r\n",
        "\r\n",
        "        plt.plot(x_values, y_values, z_values, color='black', linewidth=2)\r\n",
        "\r\n",
        "    # End-effector pos\r\n",
        "    ax.scatter3D(ee_pos[0], ee_pos[1], ee_pos[2], c='red', s=8)\r\n"
      ],
      "execution_count": null,
      "outputs": []
    },
    {
      "cell_type": "code",
      "metadata": {
        "id": "QXF_PnDeWGJJ"
      },
      "source": [
        "def plotDeflectionMap(x_pos, y_pos, z_pos, deflection, colormap, s):\r\n",
        "    plt.figure()\r\n",
        "    ax = plt.axes(projection='3d')\r\n",
        "    ax.set_xlim3d(0, space_size)\r\n",
        "    ax.set_ylim3d(0, space_size)\r\n",
        "    ax.set_zlim3d(0, space_size)\r\n",
        "    ax.set_xlabel('X')\r\n",
        "    ax.set_ylabel('Y')\r\n",
        "    ax.set_zlabel('Z')\r\n",
        "\r\n",
        "    plt.colorbar(ax.scatter3D(x_pos, y_pos, z_pos, c=deflection, cmap=colormap, s=s))\r\n",
        "    plt.show()"
      ],
      "execution_count": null,
      "outputs": []
    },
    {
      "cell_type": "code",
      "metadata": {
        "id": "w4_9RmxFWGsF"
      },
      "source": [
        "def CalculateDeflections(links, forces):\r\n",
        "    x_pos = np.array([])\r\n",
        "    y_pos = np.array([])\r\n",
        "    z_pos = np.array([])\r\n",
        "    deflections = np.array([])\r\n",
        "\r\n",
        "    xlinSpace = np.linspace(0.001, 1, 16)\r\n",
        "    ylinSpace = np.linspace(0.001, 1, 16)\r\n",
        "    zlinSpace = np.linspace(0.001, 1, 16)\r\n",
        "\r\n",
        "    for x in xlinSpace:\r\n",
        "        xData = np.array([])\r\n",
        "        yData = np.array([])\r\n",
        "        zData = np.array([])\r\n",
        "        dData = np.array([])\r\n",
        "\r\n",
        "        for y in ylinSpace:\r\n",
        "            for z in zlinSpace:\r\n",
        "                ee_pos = np.array([x, y, z])\r\n",
        "                q_active = [[ee_pos[0]], [ee_pos[1]], [ee_pos[2]]]\r\n",
        "                plt_edges = GetPlatformEdges(ee_pos)\r\n",
        "                q_passive = getInverseKinematic(T_base, plt_edges, links)\r\n",
        "\r\n",
        "                Jq = GetJacobianForPassive(T_base, q_active, q_passive, virtual_joints, links)\r\n",
        "                Jtheta = GetJacobianForTheta(T_base, q_active, q_passive, virtual_joints, links)\r\n",
        "\r\n",
        "                Kc = GetKc(virtual_k, Jq, Jtheta)\r\n",
        "\r\n",
        "                dt = np.linalg.inv(Kc).dot(forces)\r\n",
        "                deflection = np.sqrt(dt[0] ** 2 + dt[1] ** 2 + dt[2] ** 2)\r\n",
        "\r\n",
        "                xData = np.append(xData, x)\r\n",
        "                yData = np.append(yData, y)\r\n",
        "                zData = np.append(zData, z)\r\n",
        "                dData = np.append(dData, deflection)\r\n",
        "\r\n",
        "        x_pos = np.append(x_pos, xData)\r\n",
        "        y_pos = np.append(y_pos, yData)\r\n",
        "        z_pos = np.append(z_pos, zData)\r\n",
        "        deflections = np.append(deflections, dData)\r\n",
        "\r\n",
        "    return x_pos, y_pos, z_pos, deflections"
      ],
      "execution_count": null,
      "outputs": []
    },
    {
      "cell_type": "code",
      "metadata": {
        "id": "-0dNUIvNWI0j"
      },
      "source": [
        "space_size = 1.0\r\n",
        "link_lengths = np.array([1, 1])\r\n",
        "\r\n",
        "T_base_z = np.eye(4)\r\n",
        "T_base_y = np.linalg.multi_dot([Tz(space_size), Rx(-np.pi / 2)])\r\n",
        "T_base_x = np.linalg.multi_dot([Ty(space_size), Ry(np.pi / 2), Rz(np.pi)])\r\n",
        "T_base = [T_base_x, T_base_y, T_base_z]\r\n",
        "\r\n",
        "zeros_mtr = np.zeros(13)\r\n",
        "virtual_joints = [zeros_mtr, zeros_mtr, zeros_mtr]\r\n",
        "\r\n",
        "K_active = 1000000\r\n",
        "\r\n",
        "e = 6.9000e+10\r\n",
        "g = 2.5500e+10\r\n",
        "\r\n",
        "d_link = 0.15\r\n",
        "a = np.pi * (d_link ** 2) / 4\r\n",
        "i_y = np.pi * (d_link ** 4) / 64\r\n",
        "i_z = np.pi * (d_link ** 4) / 64\r\n",
        "i_p = i_y + i_z\r\n",
        "\r\n",
        "virtual_stiffness = KThetaLeg(K_active, e, g, a, i_y, i_z, i_p, link_lengths[0])\r\n",
        "virtual_k = [virtual_stiffness, virtual_stiffness, virtual_stiffness]\r\n",
        "\r\n",
        "externalForce = np.array([[0], [0], [100], [0], [0], [0]])"
      ],
      "execution_count": null,
      "outputs": []
    },
    {
      "cell_type": "code",
      "metadata": {
        "id": "BsAsZXTNWpUZ"
      },
      "source": [
        "def Main():\r\n",
        "    start = time.time()\r\n",
        "\r\n",
        "    # Plot Tripteron\r\n",
        "    p_global = np.array([0.5, 0.5, 0.5])\r\n",
        "    p_fake_global = GetPlatformEdges(p_global)\r\n",
        "    q_passive = getInverseKinematic(T_base, p_fake_global, link_lengths)\r\n",
        "\r\n",
        "    # Deflections\r\n",
        "    xScatter, yScatter, zScatter, dScatter = CalculateDeflections(link_lengths, externalForce)\r\n",
        "    end = time.time()\r\n",
        "\r\n",
        "    plotModel(T_base, p_global, q_passive, virtual_joints, link_lengths, p_fake_global)\r\n",
        "\r\n",
        "    clmap = plt.cm.get_cmap('viridis', 12)\r\n",
        "    plotDeflectionMap(xScatter, yScatter, zScatter, dScatter, clmap, 60)\r\n",
        "\r\n",
        "    return xScatter, yScatter, zScatter, dScatter, end - start\r\n"
      ],
      "execution_count": null,
      "outputs": []
    },
    {
      "cell_type": "code",
      "metadata": {
        "colab": {
          "base_uri": "https://localhost:8080/",
          "height": 496
        },
        "id": "WeyxI0msWsNq",
        "outputId": "a111ce7c-19c5-4e54-9070-c7adefefa2c2"
      },
      "source": [
        "_, _1, _2, _3, time = Main()\r\n",
        "print(time)"
      ],
      "execution_count": null,
      "outputs": [
        {
          "output_type": "display_data",
          "data": {
            "image/png": "[encoded data removed]",
            "text/plain": [
              "<Figure size 432x288 with 1 Axes>"
            ]
          },
          "metadata": {
            "tags": [],
            "needs_background": "light"
          }
        },
        {
          "output_type": "display_data",
          "data": {
            "image/png": "[encoded data removed]",
            "text/plain": [
              "<Figure size 432x288 with 2 Axes>"
            ]
          },
          "metadata": {
            "tags": [],
            "needs_background": "light"
          }
        },
        {
          "output_type": "stream",
          "text": [
            "260.2404103279114\n"
          ],
          "name": "stdout"
        }
      ]
    }
  ]
}